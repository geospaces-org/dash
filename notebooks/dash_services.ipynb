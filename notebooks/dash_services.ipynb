{
 "cells": [
  {
   "attachments": {},
   "cell_type": "markdown",
   "metadata": {},
   "source": [
    "# Dash_Services"
   ]
  },
  {
   "cell_type": "code",
   "execution_count": null,
   "metadata": {},
   "outputs": [],
   "source": [
    "%reload_ext autoreload\n",
    "%autoreload 2\n",
    "import colabexts\n",
    "from colabexts.jcommon import *\n",
    "\n",
    "jpath=os.path.dirname(colabexts.__file__)\n",
    "jcom = f'{jpath}/jcommon.ipynb'\n",
    "%run $jcom\n",
    "\n",
    "import os, sys, datetime, re, json, importlib\n",
    "from collections import defaultdict\n",
    "from sys import modules\n",
    "from IPython.display import HTML, Javascript\n",
    "import warnings\n",
    "import pandas as pd\n",
    "warnings.filterwarnings('ignore')\n",
    "\n",
    "%matplotlib inline\n",
    "pd.set_option('display.max_colwidth', 40)\n",
    "pd.set_option('display.max_rows', 16)\n",
    "\n",
    "import logging\n",
    "for handler in logging.root.handlers[:]: logging.root.removeHandler(handler)\n",
    "logging.basicConfig( level=logging.INFO,\n",
    "        format='%(asctime)s %(name)s %(levelname)s: %(message)s',\n",
    "        #handlers=[ logging.FileHandler(\"/tmp/stream.log\"), logging.StreamHandler()],\n",
    "        handlers=[ logging.StreamHandler()],\n",
    ")\n",
    "logger = logging.getLogger( \"geoapp\" )\n",
    "logger.info( f\"Testing logging\" )"
   ]
  },
  {
   "attachments": {},
   "cell_type": "markdown",
   "metadata": {},
   "source": [
    "# dash_services"
   ]
  },
  {
   "cell_type": "code",
   "execution_count": 134,
   "metadata": {
    "code_folding": [
     58,
     76
    ],
    "scrolled": false
   },
   "outputs": [
    {
     "name": "stdout",
     "output_type": "stream",
     "text": [
      "Overwriting ../dash_services.py\n"
     ]
    }
   ],
   "source": [
    "%%writefile ../dash_services.py\n",
    "#!/usr/bin/env python \n",
    "\n",
    "#*** DO NOT EDIT - GENERATED FROM tseries/notebooks/tseries_services.ipynb ****\n",
    "\n",
    "import sys, os,  glob, logging, datetime\n",
    "from  mangorest.mango import webapi\n",
    "from colabexts import utils as colabexts_utils\n",
    "import pandas as pd\n",
    "\n",
    "sys.path.append(\"../..\")\n",
    "\n",
    "MBASE  = \"/opt/data/data/dashboards/\"\n",
    "logger = logging.getLogger( \"geoapp\" )\n",
    "\n",
    "#---------------------------------------------------------------------------------    \n",
    "@webapi(\"/dashboard/save_dashboard\")\n",
    "def save_dashboard( name, contents, **kwargs):\n",
    "    name = name or \"default\"\n",
    "    if (name.endswith(\".json\")):\n",
    "        name = name[:-5]\n",
    "        \n",
    "    dst = f\"{MBASE}/{name}.json\"\n",
    "    dstd= os.path.dirname(dst)\n",
    "    if not os.path.exists(dstd ):\n",
    "        os.makedirs(dstd)\n",
    "    \n",
    "    with open(dst, \"w\") as f:\n",
    "        f.write(contents.strip())\n",
    "\n",
    "    return f\"Saved {dst}\"    \n",
    "#---------------------------------------------------------------------------------    \n",
    "@webapi(\"/dashboard/get_dashboard\")\n",
    "def get_dashboard( name, **kwargs):\n",
    "    if (name.endswith(\".json\")):\n",
    "        name = name[:-5]\n",
    "    dst = f\"{MBASE}/{name}.json\"\n",
    "    if not os.path.exists(os.path.dirname(dst) ):\n",
    "        os.makedirs(dst)\n",
    "    \n",
    "    ret = open(dst, \"r\").read()\n",
    "    return ret  \n",
    "#------------------------------------------------------------------------------\n",
    "@webapi(\"/dashboard/delete_dashboard\")\n",
    "def delete_dashboard(name=\"\", **kwargs):\n",
    "    dst = f\"{MBASE}/{name}.json\"\n",
    "    if ( not os.path.exists(dst) ):\n",
    "        return \"OK {dst} does not exist!!\"\n",
    "    os.remove(dst)\n",
    "\n",
    "    return f\"Deleted {dst}.\"\n",
    "#------------------------------------------------------------------------------\n",
    "@webapi(\"/dashboard/getall_dashboards\")\n",
    "def getAllDashboards( nrows=10000, patt='*.json', **kwargs):\n",
    "    \n",
    "    files = glob.glob(f\"{MBASE}{patt}\")\n",
    "    files.sort(key=os.path.getmtime, reverse=True)\n",
    "\n",
    "    ret = {\n",
    "        \"name\": \"dashboards\",\n",
    "        \"columns\": [\"name\"],\n",
    "        \"values\": [[f[len(MBASE):]] for f in files][0:nrows]\n",
    "    }\n",
    "    return ret\n",
    "#------------------------------------------------------------------------------\n",
    "@webapi(\"/dashboard/testdash\")\n",
    "def testdash( t=2, **kwargs):\n",
    "    # take a long time to respond back\n",
    "    import time\n",
    "    t = max( 2, min( int(t), 10))\n",
    "    time.sleep( int(t) )\n",
    "    return f\"Slept for {t} seconds :)\"\n",
    "#------------------------------------------------------------------------------\n",
    "def _getSystemStats(request=None, **kwargs):\n",
    "    import platform,  socket, psutil,  random\n",
    "\n",
    "    kb,mb, gb = float(1024), float(1024 * 1024), float( 1024 * 1024 * 1024)\n",
    "\n",
    "    memTotal       = int(psutil.virtual_memory()[0]/gb)\n",
    "    memFreeGB        = int(psutil.virtual_memory()[1]/gb)\n",
    "    memUsedGB        = int(psutil.virtual_memory()[3]/gb)\n",
    "    memFreeMB        = int(psutil.virtual_memory()[1]/mb)\n",
    "    memUsedMB        = int(psutil.virtual_memory()[3]/mb)\n",
    "    memPercent     = int(memUsedGB/memTotal*100)\n",
    "    storageTotal   = int(psutil.disk_usage('/')[0]/gb)\n",
    "    storageUsed    = int(psutil.disk_usage('/')[1]/gb)\n",
    "    storageFree    = int(psutil.disk_usage('/')[2]/gb)\n",
    "    storagePercent = int(storageUsed/storageTotal*100)\n",
    "    info           = \"CPU\"\n",
    "    ts             = int(datetime.datetime.now().timestamp()*1000) + 1000\n",
    "\n",
    "    out=f''' {{\n",
    "        time            : {ts},\n",
    "        cpu_count       : {os.cpu_count()},\n",
    "        host            : \"{socket.gethostname()}\",\n",
    "        System          : \"{platform.system(),platform.machine()}\",\n",
    "        memoryUnits     : \"GiB\",\n",
    "        memory          : {memTotal}, \n",
    "        memFreeGB       : {memFreeGB},\n",
    "        memUsedGB       : {memUsedGB},\n",
    "        memFreeMB       : {memFreeMB},\n",
    "        memUsedMB       : {memUsedMB},\n",
    "        memory_prcnt    : {memPercent},\n",
    "        n_processes     : {len(psutil.pids())},\n",
    "        load_avg_1min   : {round(os.getloadavg()[0],2)},\n",
    "        load_avg_5min   : {round(os.getloadavg()[1],2)},\n",
    "        load_avg_15min  : {round(os.getloadavg()[2],2)},\n",
    "        lat             : {   39.5199452 + random.random() } ,\n",
    "        lon             : { -104.9390802 + random.random() } ,\n",
    "        altitude        : { 10000 + random.random() * 10   } ,  # altitude in in feet\n",
    "        temperature     : {random.random() * 10 + 32}\n",
    "\n",
    "    }}'''\n",
    "    p = colabexts_utils.parsej(out, **kwargs)\n",
    "    df = pd.DataFrame([p])\n",
    "    return df\n",
    "#------------------------------------------------------------------------------\n",
    "SYSTEM_INFO_DF = None\n",
    "@webapi(\"/dashboard/system_info\")\n",
    "def system_info( request, **kwargs):\n",
    "    global SYSTEM_INFO_DF\n",
    "    df = _getSystemStats(request, **kwargs)\n",
    "    if (SYSTEM_INFO_DF is None):\n",
    "        SYSTEM_INFO_DF = df\n",
    "    else:\n",
    "        SYSTEM_INFO_DF = pd.concat([df, SYSTEM_INFO_DF])\n",
    "\n",
    "    SYSTEM_INFO_DF = SYSTEM_INFO_DF[-500:] # just keep last 500 rows for debugging\n",
    "    ret = {\n",
    "        \"name\" : \"system_info\",\n",
    "        'columns': [c for c in SYSTEM_INFO_DF.columns],\n",
    "        'values' : SYSTEM_INFO_DF.values.tolist()        \n",
    "    }\n",
    "    return ret\n",
    "\n",
    "#------------------------------------------------------------------------------\n",
    "@webapi(\"/dashboard/sample_data\")\n",
    "def sample_data( request, **kwargs):\n",
    "    from random import random \n",
    "    n = kwargs.get(\"n\", 1)\n",
    "    \n",
    "    ts = int(datetime.datetime.now().timestamp()*1000) \n",
    "    ret = {\n",
    "        \"name\": \"sample_data\",\n",
    "        \"columns\": [\"time\"] + [ f\"v{i}\" for i in range(n)],\n",
    "        \"values\":  [[ts+i*1000] + [random() for j in range(n)] for i in range(100)]\n",
    "    }\n",
    "    return ret\n"
   ]
  },
  {
   "cell_type": "code",
   "execution_count": 126,
   "metadata": {},
   "outputs": [
    {
     "data": {
      "text/plain": [
       "Timestamp('2024-07-04 19:11:00.587000')"
      ]
     },
     "execution_count": 126,
     "metadata": {},
     "output_type": "execute_result"
    }
   ],
   "source": [
    "ts = int(datetime.datetime.now().timestamp()*1000)\n",
    "pd.to_datetime(ts, unit='ms')"
   ]
  },
  {
   "cell_type": "code",
   "execution_count": 127,
   "metadata": {},
   "outputs": [
    {
     "data": {
      "text/plain": [
       "{'name': 'system_info',\n",
       " 'columns': ['cpu_count',\n",
       "  'host',\n",
       "  'System',\n",
       "  'memoryUnits',\n",
       "  'memory',\n",
       "  'memFreeGB',\n",
       "  'memUsedGB',\n",
       "  'memFreeMB',\n",
       "  'memUsedMB',\n",
       "  'memory_prcnt',\n",
       "  'n_processes',\n",
       "  'load_avg_1min',\n",
       "  'load_avg_5min',\n",
       "  'load_avg_15min',\n",
       "  'lat',\n",
       "  'lon',\n",
       "  'altitude',\n",
       "  'temperature'],\n",
       " 'values': [[16,\n",
       "   'sada-mac.local',\n",
       "   \"('Darwin', 'x86_64')\",\n",
       "   'GiB',\n",
       "   64,\n",
       "   41,\n",
       "   19,\n",
       "   42336,\n",
       "   20405,\n",
       "   28,\n",
       "   943,\n",
       "   2.59,\n",
       "   3.22,\n",
       "   3.13,\n",
       "   40.43991774974619,\n",
       "   -104.02305437462721,\n",
       "   10003.122276848788,\n",
       "   40.93997190237054]]}"
      ]
     },
     "execution_count": 127,
     "metadata": {},
     "output_type": "execute_result"
    }
   ],
   "source": [
    "system_info(None)"
   ]
  },
  {
   "cell_type": "code",
   "execution_count": null,
   "metadata": {},
   "outputs": [],
   "source": []
  },
  {
   "cell_type": "code",
   "execution_count": null,
   "metadata": {},
   "outputs": [],
   "source": []
  },
  {
   "cell_type": "code",
   "execution_count": null,
   "metadata": {},
   "outputs": [],
   "source": []
  }
 ],
 "metadata": {
  "hide_input": false,
  "kernelspec": {
   "display_name": "Python 3 (ipykernel)",
   "language": "python",
   "name": "python3"
  },
  "language_info": {
   "codemirror_mode": {
    "name": "ipython",
    "version": 3
   },
   "file_extension": ".py",
   "mimetype": "text/x-python",
   "name": "python",
   "nbconvert_exporter": "python",
   "pygments_lexer": "ipython3",
   "version": "3.11.8"
  },
  "toc": {
   "base_numbering": 1,
   "nav_menu": {},
   "number_sections": true,
   "sideBar": true,
   "skip_h1_title": false,
   "title_cell": "Table of Contents",
   "title_sidebar": "Contents",
   "toc_cell": false,
   "toc_position": {},
   "toc_section_display": true,
   "toc_window_display": false
  },
  "varInspector": {
   "cols": {
    "lenName": 16,
    "lenType": 16,
    "lenVar": 40
   },
   "kernels_config": {
    "python": {
     "delete_cmd_postfix": "",
     "delete_cmd_prefix": "del ",
     "library": "var_list.py",
     "varRefreshCmd": "print(var_dic_list())"
    },
    "r": {
     "delete_cmd_postfix": ") ",
     "delete_cmd_prefix": "rm(",
     "library": "var_list.r",
     "varRefreshCmd": "cat(var_dic_list()) "
    }
   },
   "types_to_exclude": [
    "module",
    "function",
    "builtin_function_or_method",
    "instance",
    "_Feature"
   ],
   "window_display": false
  },
  "vscode": {
   "interpreter": {
    "hash": "949777d72b0d2535278d3dc13498b2535136f6dfe0678499012e853ee9abcab1"
   }
  }
 },
 "nbformat": 4,
 "nbformat_minor": 4
}
